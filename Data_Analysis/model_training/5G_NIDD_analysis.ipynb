{
 "cells": [
  {
   "cell_type": "code",
   "execution_count": 1,
   "metadata": {},
   "outputs": [],
   "source": [
    "import pandas as pd\n",
    "import numpy as np\n",
    "import numpy as np\n",
    "import pandas as pd \n",
    "import pickle\n",
    "import matplotlib as mpl\n",
    "import matplotlib.pyplot as plt\n",
    "import seaborn as sns\n",
    "from sklearn.ensemble import RandomForestClassifier\n",
    "from sklearn.metrics import classification_report, confusion_matrix\n",
    "from sklearn.tree import DecisionTreeClassifier\n",
    "pd.options.mode.chained_assignment = None\n",
    "from IPython.display import display, HTML\n",
    "from sklearn.model_selection import train_test_split\n",
    "\n",
    "import warnings\n",
    "warnings.filterwarnings(\"ignore\")"
   ]
  },
  {
   "cell_type": "markdown",
   "metadata": {},
   "source": [
    "#### Functions to be used for model and feature selection"
   ]
  },
  {
   "cell_type": "code",
   "execution_count": 2,
   "metadata": {},
   "outputs": [],
   "source": [
    "### Function to save final model for later use\n",
    "def save_model(RF, filename):\n",
    "    pickle.dump(RF, open(filename, 'wb'))\n",
    "\n",
    "# Function to Fit model based on optimal values of number of estimators and use it to compute feature importance for all the features.\n",
    "def get_feature_importance(n_tree, max_leaf, X_train, y_train, model_type):\n",
    "    \n",
    "    if model_type == 'RF':\n",
    "        rf_opt = RandomForestClassifier(n_estimators = n_tree, max_leaf_nodes=max_leaf, random_state=42, bootstrap=False)\n",
    "\n",
    "    elif model_type == 'DT':\n",
    "        rf_opt = DecisionTreeClassifier(max_leaf_nodes=max_leaf, random_state=42)    \n",
    "\n",
    "    rf_opt.fit(X_train, y_train)\n",
    "    feature_importance = pd.DataFrame(rf_opt.feature_importances_)\n",
    "    feature_importance.index = X_train.columns\n",
    "    feature_importance = feature_importance.sort_values(by=list(feature_importance.columns), axis=0, ascending=False)\n",
    "    \n",
    "    return feature_importance\n",
    "\n",
    "\n",
    "#Function to Fit model based on optimal values of depth and number of estimators and feature importance\n",
    "# to find the fewest possible features to exceed the previously attained score with all selected features\n",
    "def get_fewest_features(importance):    \n",
    "    sorted_feature_names = importance.index\n",
    "    features = []\n",
    "    for f in range(1,len(sorted_feature_names)+1):\n",
    "        features.append(sorted_feature_names[0:f])\n",
    "    return features\n",
    "\n",
    "def get_result_scores(classes, cl_report):\n",
    "    precision=[]\n",
    "    recall=[]\n",
    "    f1_score=[]\n",
    "    supports=[]\n",
    "    for a_class in classes:\n",
    "        precision.append(cl_report[a_class]['precision'])\n",
    "        recall.append(cl_report[a_class]['recall'])\n",
    "        f1_score.append(cl_report[a_class]['f1-score'])\n",
    "        supports.append(cl_report[a_class]['support'])\n",
    "    return precision, recall, f1_score, supports\n",
    "\n",
    "\n",
    "def get_scores(classes, n_tree, feats, max_leaf, X_train, y_train, X_test, y_test,model_type):      \n",
    "                        \n",
    "    if model_type == 'RF':\n",
    "        model = RandomForestClassifier(n_estimators = n_tree, max_leaf_nodes=max_leaf, random_state=42, bootstrap=False)\n",
    "\n",
    "    elif model_type == 'DT':\n",
    "        model = DecisionTreeClassifier(max_leaf_nodes=max_leaf, random_state=42) \n",
    "\n",
    "    model.fit(X_train[feats], y_train)\n",
    "    y_pred = model.predict(X_test[feats])\n",
    "\n",
    "    class_report = classification_report(y_test, y_pred, target_names=classes, output_dict = True)\n",
    "    \n",
    "    macro_score = class_report['macro avg']['f1-score']\n",
    "    weighted_score = class_report['weighted avg']['f1-score']\n",
    "\n",
    "    return model, class_report, macro_score, weighted_score, y_pred\n",
    "\n",
    "\n",
    "def get_x_y(Dataset, classes, feats):\n",
    "    Dataset = Dataset[Dataset[\"label\"].isin(classes)]    \n",
    "    X = Dataset[feats]\n",
    "    y = Dataset['label'].replace(classes, range(len(classes)))\n",
    "    return X, y\n",
    "\n",
    "def analyze_models(classes, model_type, n_trees, X_train, y_train, X_test, y_test, max_leaf, filename_out):\n",
    "    with open(filename_out, \"w\") as res_file:\n",
    "        print('tree;n_feat;macro;weighted;feats', file=res_file)\n",
    "        if model_type == 'RF':\n",
    "            # FOR EACH (n_tree, feat)\n",
    "            for n_tree in n_trees:\n",
    "                # get feature orders to use\n",
    "                importance = get_feature_importance(n_tree, max_leaf, X_train, y_train,model_type)\n",
    "                m_feats = get_fewest_features(importance) \n",
    "                for feats in m_feats:\n",
    "                    # Get the scores with the given (n_tree, feat)\n",
    "                    model, c_report, macro_f1, weight_f1, y_pred = get_scores(classes, n_tree, feats, max_leaf, X_train, y_train, X_test, y_test,model_type)\n",
    "                    print(str(n_tree)+';'+str(len(feats))+';'+str(macro_f1)+';'+str(weight_f1)+';'+str(list(feats)), file=res_file)\n",
    "\n",
    "        elif model_type == 'DT':\n",
    "            importance = get_feature_importance(0, max_leaf, X_train, y_train,model_type)\n",
    "            m_feats = get_fewest_features(importance) \n",
    "            for feats in m_feats:\n",
    "                # Get the scores with the given (n_tree, feat)\n",
    "                model, c_report, macro_f1, weight_f1, y_pred = get_scores(classes, 0, feats, max_leaf, X_train, y_train, X_test, y_test,model_type)\n",
    "                print(str(0)+';'+str(len(feats))+';'+str(macro_f1)+';'+str(weight_f1)+';'+str(list(feats)), file=res_file)\n",
    "    print(\"Analysis Complete. Check output file.\")\n",
    "    return []"
   ]
  },
  {
   "cell_type": "markdown",
   "metadata": {},
   "source": [
    "#### Load cleaned data"
   ]
  },
  {
   "cell_type": "code",
   "execution_count": 3,
   "metadata": {},
   "outputs": [],
   "source": [
    "# Load the labeled file and print number of rows per label\n",
    "df_train = pd.read_csv(\"../pre_processing/NIDD_5G_Train_Full.csv\")\n",
    "df_test = pd.read_csv(\"../pre_processing/NIDD_5G_Test_Full.csv\")"
   ]
  },
  {
   "cell_type": "code",
   "execution_count": 4,
   "metadata": {},
   "outputs": [
    {
     "name": "stdout",
     "output_type": "stream",
     "text": [
      "label\n",
      "Benign            2958689\n",
      "HTTPFlood          675106\n",
      "UDPFlood           550471\n",
      "SlowrateDoS        463246\n",
      "SYNFlood            19820\n",
      "TCPConnectScan      15297\n",
      "SYNScan             15184\n",
      "UDPScan             12037\n",
      "ICMPFlood            1703\n",
      "Name: count, dtype: int64\n"
     ]
    }
   ],
   "source": [
    "print(df_train['label'].value_counts())"
   ]
  },
  {
   "cell_type": "code",
   "execution_count": 5,
   "metadata": {},
   "outputs": [
    {
     "name": "stdout",
     "output_type": "stream",
     "text": [
      "label\n",
      "Benign            986820\n",
      "HTTPFlood         225279\n",
      "UDPFlood          183289\n",
      "SlowrateDoS       153989\n",
      "SYNFlood            6638\n",
      "TCPConnectScan      5076\n",
      "SYNScan             4968\n",
      "UDPScan             3912\n",
      "ICMPFlood            606\n",
      "Name: count, dtype: int64\n"
     ]
    }
   ],
   "source": [
    "print(df_test['label'].value_counts())"
   ]
  },
  {
   "cell_type": "code",
   "execution_count": 6,
   "metadata": {},
   "outputs": [
    {
     "name": "stdout",
     "output_type": "stream",
     "text": [
      "['Benign' 'SlowrateDoS' 'SYNFlood' 'UDPScan' 'ICMPFlood' 'TCPConnectScan'\n",
      " 'HTTPFlood' 'SYNScan' 'UDPFlood']\n"
     ]
    }
   ],
   "source": [
    "print(df_train['label'].unique())   "
   ]
  },
  {
   "cell_type": "code",
   "execution_count": 7,
   "metadata": {},
   "outputs": [],
   "source": [
    "# Remove rows with srcport or dstport = 0 and label = Benign\n",
    "df_train = df_train[~(((df_train[\"srcport\"]==0) | (df_train[\"dstport\"]==0)) & (df_train['label']=='Benign'))]\n",
    "df_test = df_test[~(((df_test[\"srcport\"]==0) | (df_test[\"dstport\"]==0)) & (df_test['label']=='Benign'))]"
   ]
  },
  {
   "cell_type": "code",
   "execution_count": 8,
   "metadata": {},
   "outputs": [
    {
     "name": "stdout",
     "output_type": "stream",
     "text": [
      "label\n",
      "Benign            2497427\n",
      "HTTPFlood          675106\n",
      "UDPFlood           550471\n",
      "SlowrateDoS        463246\n",
      "SYNFlood            19820\n",
      "TCPConnectScan      15297\n",
      "SYNScan             15184\n",
      "UDPScan             12037\n",
      "ICMPFlood            1703\n",
      "Name: count, dtype: int64\n"
     ]
    }
   ],
   "source": [
    "print(df_train['label'].value_counts())"
   ]
  },
  {
   "cell_type": "code",
   "execution_count": 9,
   "metadata": {},
   "outputs": [
    {
     "name": "stdout",
     "output_type": "stream",
     "text": [
      "label\n",
      "Benign            833295\n",
      "HTTPFlood         225279\n",
      "UDPFlood          183289\n",
      "SlowrateDoS       153989\n",
      "SYNFlood            6638\n",
      "TCPConnectScan      5076\n",
      "SYNScan             4968\n",
      "UDPScan             3912\n",
      "ICMPFlood            606\n",
      "Name: count, dtype: int64\n"
     ]
    }
   ],
   "source": [
    "print(df_test['label'].value_counts())"
   ]
  },
  {
   "cell_type": "code",
   "execution_count": 10,
   "metadata": {},
   "outputs": [],
   "source": [
    "# We use all 9 classes for our analysis\n",
    "classes = ['Benign','SlowrateDoS','SYNFlood','UDPScan','ICMPFlood',\n",
    "           'TCPConnectScan','HTTPFlood','SYNScan','UDPFlood']\n",
    "\n",
    "# select data with known labels\n",
    "df_train = df_train[df_train['label'].isin(classes)]\n",
    "df_test  = df_test[df_test['label'].isin(classes)]\n",
    "\n",
    "# Normalize the tcp.hdr_len as it is a 4 bit number in the switch\n",
    "df_train['tcp.hdr_len'] = df_train['tcp.hdr_len']/4\n",
    "df_test['tcp.hdr_len'] = df_test['tcp.hdr_len']/4\n",
    "\n",
    "# features for feature and model selection process\n",
    "features = ['ip.len', 'tcp.flags.syn', 'tcp.flags.ack', 'tcp.flags.push',\n",
    "       'tcp.flags.fin', 'tcp.flags.reset', 'ip.proto', 'ip.ttl', 'srcport',\n",
    "       'dstport', 'tcp.window_size_value', 'tcp.hdr_len', 'udp.length']"
   ]
  },
  {
   "cell_type": "code",
   "execution_count": 11,
   "metadata": {},
   "outputs": [],
   "source": [
    "#we separate the data into features and labels and then numerize the labels\n",
    "X_train, X_test, y_train, y_test = df_train[features], df_test[features], df_train['label'], df_test['label']\n",
    "\n",
    "y_train = y_train.replace(classes, range(len(classes)))\n",
    "y_test = y_test.replace(classes, range(len(classes)))"
   ]
  },
  {
   "cell_type": "code",
   "execution_count": 12,
   "metadata": {},
   "outputs": [
    {
     "data": {
      "text/plain": [
       "label\n",
       "0    2497427\n",
       "6     675106\n",
       "8     550471\n",
       "1     463246\n",
       "2      19820\n",
       "5      15297\n",
       "7      15184\n",
       "3      12037\n",
       "4       1703\n",
       "Name: count, dtype: int64"
      ]
     },
     "execution_count": 12,
     "metadata": {},
     "output_type": "execute_result"
    }
   ],
   "source": [
    "y_train.value_counts()"
   ]
  },
  {
   "cell_type": "code",
   "execution_count": 13,
   "metadata": {},
   "outputs": [
    {
     "data": {
      "text/plain": [
       "label\n",
       "0    833295\n",
       "6    225279\n",
       "8    183289\n",
       "1    153989\n",
       "2      6638\n",
       "5      5076\n",
       "7      4968\n",
       "3      3912\n",
       "4       606\n",
       "Name: count, dtype: int64"
      ]
     },
     "execution_count": 13,
     "metadata": {},
     "output_type": "execute_result"
    }
   ],
   "source": [
    "y_test.value_counts()"
   ]
  },
  {
   "cell_type": "markdown",
   "metadata": {},
   "source": [
    "#### Analyze the features and model combinations for both DT and RF"
   ]
  },
  {
   "cell_type": "code",
   "execution_count": 68,
   "metadata": {},
   "outputs": [
    {
     "name": "stdout",
     "output_type": "stream",
     "text": [
      "Analysis Complete. Check output file.\n"
     ]
    },
    {
     "data": {
      "text/plain": [
       "[]"
      ]
     },
     "execution_count": 68,
     "metadata": {},
     "output_type": "execute_result"
    }
   ],
   "source": [
    "analyze_models(classes, \"DT\", range(1,5,1), X_train.fillna(0), y_train, X_test.fillna(0), y_test, 500, \"PKT_models_5G_NIDD_DT_Full.csv\")"
   ]
  },
  {
   "cell_type": "code",
   "execution_count": 69,
   "metadata": {},
   "outputs": [
    {
     "name": "stdout",
     "output_type": "stream",
     "text": [
      "Analysis Complete. Check output file.\n"
     ]
    },
    {
     "data": {
      "text/plain": [
       "[]"
      ]
     },
     "execution_count": 69,
     "metadata": {},
     "output_type": "execute_result"
    }
   ],
   "source": [
    "analyze_models(classes, \"RF\", range(1,8,2), X_train.fillna(0), y_train, X_test.fillna(0), y_test, 500, \"PKT_models_5G_NIDD_RF_Full.csv\")"
   ]
  },
  {
   "cell_type": "code",
   "execution_count": 70,
   "metadata": {},
   "outputs": [],
   "source": [
    "results_dt, results_rf = pd.read_csv(\"PKT_models_5G_NIDD_DT_Full.csv\", delimiter=\";\"), pd.read_csv(\"PKT_models_5G_NIDD_RF_Full.csv\", delimiter=\";\")\n",
    "results_dt = results_dt.sort_values(by=['macro','weighted'],ascending=False)\n",
    "results_rf = results_rf.sort_values(by=['macro','weighted'],ascending=False)"
   ]
  },
  {
   "cell_type": "code",
   "execution_count": 71,
   "metadata": {},
   "outputs": [
    {
     "data": {
      "text/html": [
       "<div>\n",
       "<style scoped>\n",
       "    .dataframe tbody tr th:only-of-type {\n",
       "        vertical-align: middle;\n",
       "    }\n",
       "\n",
       "    .dataframe tbody tr th {\n",
       "        vertical-align: top;\n",
       "    }\n",
       "\n",
       "    .dataframe thead th {\n",
       "        text-align: right;\n",
       "    }\n",
       "</style>\n",
       "<table border=\"1\" class=\"dataframe\">\n",
       "  <thead>\n",
       "    <tr style=\"text-align: right;\">\n",
       "      <th></th>\n",
       "      <th>tree</th>\n",
       "      <th>n_feat</th>\n",
       "      <th>macro</th>\n",
       "      <th>weighted</th>\n",
       "      <th>feats</th>\n",
       "    </tr>\n",
       "  </thead>\n",
       "  <tbody>\n",
       "    <tr>\n",
       "      <th>9</th>\n",
       "      <td>0</td>\n",
       "      <td>10</td>\n",
       "      <td>0.980802</td>\n",
       "      <td>0.979794</td>\n",
       "      <td>['ip.ttl', 'dstport', 'tcp.window_size_value',...</td>\n",
       "    </tr>\n",
       "    <tr>\n",
       "      <th>10</th>\n",
       "      <td>0</td>\n",
       "      <td>11</td>\n",
       "      <td>0.980802</td>\n",
       "      <td>0.979794</td>\n",
       "      <td>['ip.ttl', 'dstport', 'tcp.window_size_value',...</td>\n",
       "    </tr>\n",
       "    <tr>\n",
       "      <th>11</th>\n",
       "      <td>0</td>\n",
       "      <td>12</td>\n",
       "      <td>0.980802</td>\n",
       "      <td>0.979794</td>\n",
       "      <td>['ip.ttl', 'dstport', 'tcp.window_size_value',...</td>\n",
       "    </tr>\n",
       "    <tr>\n",
       "      <th>12</th>\n",
       "      <td>0</td>\n",
       "      <td>13</td>\n",
       "      <td>0.980802</td>\n",
       "      <td>0.979794</td>\n",
       "      <td>['ip.ttl', 'dstport', 'tcp.window_size_value',...</td>\n",
       "    </tr>\n",
       "    <tr>\n",
       "      <th>8</th>\n",
       "      <td>0</td>\n",
       "      <td>9</td>\n",
       "      <td>0.979160</td>\n",
       "      <td>0.977820</td>\n",
       "      <td>['ip.ttl', 'dstport', 'tcp.window_size_value',...</td>\n",
       "    </tr>\n",
       "    <tr>\n",
       "      <th>7</th>\n",
       "      <td>0</td>\n",
       "      <td>8</td>\n",
       "      <td>0.978888</td>\n",
       "      <td>0.977818</td>\n",
       "      <td>['ip.ttl', 'dstport', 'tcp.window_size_value',...</td>\n",
       "    </tr>\n",
       "    <tr>\n",
       "      <th>6</th>\n",
       "      <td>0</td>\n",
       "      <td>7</td>\n",
       "      <td>0.977391</td>\n",
       "      <td>0.976300</td>\n",
       "      <td>['ip.ttl', 'dstport', 'tcp.window_size_value',...</td>\n",
       "    </tr>\n",
       "    <tr>\n",
       "      <th>5</th>\n",
       "      <td>0</td>\n",
       "      <td>6</td>\n",
       "      <td>0.933999</td>\n",
       "      <td>0.975161</td>\n",
       "      <td>['ip.ttl', 'dstport', 'tcp.window_size_value',...</td>\n",
       "    </tr>\n",
       "    <tr>\n",
       "      <th>4</th>\n",
       "      <td>0</td>\n",
       "      <td>5</td>\n",
       "      <td>0.933955</td>\n",
       "      <td>0.975159</td>\n",
       "      <td>['ip.ttl', 'dstport', 'tcp.window_size_value',...</td>\n",
       "    </tr>\n",
       "    <tr>\n",
       "      <th>3</th>\n",
       "      <td>0</td>\n",
       "      <td>4</td>\n",
       "      <td>0.933839</td>\n",
       "      <td>0.975024</td>\n",
       "      <td>['ip.ttl', 'dstport', 'tcp.window_size_value',...</td>\n",
       "    </tr>\n",
       "  </tbody>\n",
       "</table>\n",
       "</div>"
      ],
      "text/plain": [
       "    tree  n_feat     macro  weighted  \\\n",
       "9      0      10  0.980802  0.979794   \n",
       "10     0      11  0.980802  0.979794   \n",
       "11     0      12  0.980802  0.979794   \n",
       "12     0      13  0.980802  0.979794   \n",
       "8      0       9  0.979160  0.977820   \n",
       "7      0       8  0.978888  0.977818   \n",
       "6      0       7  0.977391  0.976300   \n",
       "5      0       6  0.933999  0.975161   \n",
       "4      0       5  0.933955  0.975159   \n",
       "3      0       4  0.933839  0.975024   \n",
       "\n",
       "                                                feats  \n",
       "9   ['ip.ttl', 'dstport', 'tcp.window_size_value',...  \n",
       "10  ['ip.ttl', 'dstport', 'tcp.window_size_value',...  \n",
       "11  ['ip.ttl', 'dstport', 'tcp.window_size_value',...  \n",
       "12  ['ip.ttl', 'dstport', 'tcp.window_size_value',...  \n",
       "8   ['ip.ttl', 'dstport', 'tcp.window_size_value',...  \n",
       "7   ['ip.ttl', 'dstport', 'tcp.window_size_value',...  \n",
       "6   ['ip.ttl', 'dstport', 'tcp.window_size_value',...  \n",
       "5   ['ip.ttl', 'dstport', 'tcp.window_size_value',...  \n",
       "4   ['ip.ttl', 'dstport', 'tcp.window_size_value',...  \n",
       "3   ['ip.ttl', 'dstport', 'tcp.window_size_value',...  "
      ]
     },
     "execution_count": 71,
     "metadata": {},
     "output_type": "execute_result"
    }
   ],
   "source": [
    "results_dt.head(10)"
   ]
  },
  {
   "cell_type": "code",
   "execution_count": 72,
   "metadata": {},
   "outputs": [
    {
     "data": {
      "text/html": [
       "<div>\n",
       "<style scoped>\n",
       "    .dataframe tbody tr th:only-of-type {\n",
       "        vertical-align: middle;\n",
       "    }\n",
       "\n",
       "    .dataframe tbody tr th {\n",
       "        vertical-align: top;\n",
       "    }\n",
       "\n",
       "    .dataframe thead th {\n",
       "        text-align: right;\n",
       "    }\n",
       "</style>\n",
       "<table border=\"1\" class=\"dataframe\">\n",
       "  <thead>\n",
       "    <tr style=\"text-align: right;\">\n",
       "      <th></th>\n",
       "      <th>tree</th>\n",
       "      <th>n_feat</th>\n",
       "      <th>macro</th>\n",
       "      <th>weighted</th>\n",
       "      <th>feats</th>\n",
       "    </tr>\n",
       "  </thead>\n",
       "  <tbody>\n",
       "    <tr>\n",
       "      <th>12</th>\n",
       "      <td>1</td>\n",
       "      <td>13</td>\n",
       "      <td>0.980581</td>\n",
       "      <td>0.979649</td>\n",
       "      <td>['tcp.hdr_len', 'srcport', 'dstport', 'ip.len'...</td>\n",
       "    </tr>\n",
       "    <tr>\n",
       "      <th>10</th>\n",
       "      <td>1</td>\n",
       "      <td>11</td>\n",
       "      <td>0.980467</td>\n",
       "      <td>0.979639</td>\n",
       "      <td>['tcp.hdr_len', 'srcport', 'dstport', 'ip.len'...</td>\n",
       "    </tr>\n",
       "    <tr>\n",
       "      <th>9</th>\n",
       "      <td>1</td>\n",
       "      <td>10</td>\n",
       "      <td>0.979795</td>\n",
       "      <td>0.979098</td>\n",
       "      <td>['tcp.hdr_len', 'srcport', 'dstport', 'ip.len'...</td>\n",
       "    </tr>\n",
       "    <tr>\n",
       "      <th>50</th>\n",
       "      <td>7</td>\n",
       "      <td>12</td>\n",
       "      <td>0.979792</td>\n",
       "      <td>0.979079</td>\n",
       "      <td>['ip.ttl', 'ip.proto', 'ip.len', 'tcp.window_s...</td>\n",
       "    </tr>\n",
       "    <tr>\n",
       "      <th>25</th>\n",
       "      <td>3</td>\n",
       "      <td>13</td>\n",
       "      <td>0.979700</td>\n",
       "      <td>0.979471</td>\n",
       "      <td>['ip.ttl', 'ip.proto', 'udp.length', 'srcport'...</td>\n",
       "    </tr>\n",
       "    <tr>\n",
       "      <th>51</th>\n",
       "      <td>7</td>\n",
       "      <td>13</td>\n",
       "      <td>0.979527</td>\n",
       "      <td>0.978787</td>\n",
       "      <td>['ip.ttl', 'ip.proto', 'ip.len', 'tcp.window_s...</td>\n",
       "    </tr>\n",
       "    <tr>\n",
       "      <th>37</th>\n",
       "      <td>5</td>\n",
       "      <td>12</td>\n",
       "      <td>0.979198</td>\n",
       "      <td>0.978614</td>\n",
       "      <td>['ip.ttl', 'ip.proto', 'udp.length', 'dstport'...</td>\n",
       "    </tr>\n",
       "    <tr>\n",
       "      <th>38</th>\n",
       "      <td>5</td>\n",
       "      <td>13</td>\n",
       "      <td>0.979137</td>\n",
       "      <td>0.978508</td>\n",
       "      <td>['ip.ttl', 'ip.proto', 'udp.length', 'dstport'...</td>\n",
       "    </tr>\n",
       "    <tr>\n",
       "      <th>49</th>\n",
       "      <td>7</td>\n",
       "      <td>11</td>\n",
       "      <td>0.978738</td>\n",
       "      <td>0.977566</td>\n",
       "      <td>['ip.ttl', 'ip.proto', 'ip.len', 'tcp.window_s...</td>\n",
       "    </tr>\n",
       "    <tr>\n",
       "      <th>24</th>\n",
       "      <td>3</td>\n",
       "      <td>12</td>\n",
       "      <td>0.978494</td>\n",
       "      <td>0.978048</td>\n",
       "      <td>['ip.ttl', 'ip.proto', 'udp.length', 'srcport'...</td>\n",
       "    </tr>\n",
       "  </tbody>\n",
       "</table>\n",
       "</div>"
      ],
      "text/plain": [
       "    tree  n_feat     macro  weighted  \\\n",
       "12     1      13  0.980581  0.979649   \n",
       "10     1      11  0.980467  0.979639   \n",
       "9      1      10  0.979795  0.979098   \n",
       "50     7      12  0.979792  0.979079   \n",
       "25     3      13  0.979700  0.979471   \n",
       "51     7      13  0.979527  0.978787   \n",
       "37     5      12  0.979198  0.978614   \n",
       "38     5      13  0.979137  0.978508   \n",
       "49     7      11  0.978738  0.977566   \n",
       "24     3      12  0.978494  0.978048   \n",
       "\n",
       "                                                feats  \n",
       "12  ['tcp.hdr_len', 'srcport', 'dstport', 'ip.len'...  \n",
       "10  ['tcp.hdr_len', 'srcport', 'dstport', 'ip.len'...  \n",
       "9   ['tcp.hdr_len', 'srcport', 'dstport', 'ip.len'...  \n",
       "50  ['ip.ttl', 'ip.proto', 'ip.len', 'tcp.window_s...  \n",
       "25  ['ip.ttl', 'ip.proto', 'udp.length', 'srcport'...  \n",
       "51  ['ip.ttl', 'ip.proto', 'ip.len', 'tcp.window_s...  \n",
       "37  ['ip.ttl', 'ip.proto', 'udp.length', 'dstport'...  \n",
       "38  ['ip.ttl', 'ip.proto', 'udp.length', 'dstport'...  \n",
       "49  ['ip.ttl', 'ip.proto', 'ip.len', 'tcp.window_s...  \n",
       "24  ['ip.ttl', 'ip.proto', 'udp.length', 'srcport'...  "
      ]
     },
     "execution_count": 72,
     "metadata": {},
     "output_type": "execute_result"
    }
   ],
   "source": [
    "results_rf.head(10)"
   ]
  },
  {
   "cell_type": "markdown",
   "metadata": {},
   "source": [
    "#### Train and save final selected RF model"
   ]
  },
  {
   "cell_type": "code",
   "execution_count": 14,
   "metadata": {},
   "outputs": [
    {
     "name": "stdout",
     "output_type": "stream",
     "text": [
      "{'Benign': {'precision': 1.0, 'recall': 0.9998151914988089, 'f1-score': 0.9999075872100699, 'support': 833295.0}, 'SlowrateDoS': {'precision': 0.9371333012102832, 'recall': 0.8588405665339732, 'f1-score': 0.896280407843775, 'support': 153989.0}, 'SYNFlood': {'precision': 1.0, 'recall': 1.0, 'f1-score': 1.0, 'support': 6638.0}, 'UDPScan': {'precision': 0.9987199180747568, 'recall': 0.9971881390593047, 'f1-score': 0.9979534407776925, 'support': 3912.0}, 'ICMPFlood': {'precision': 0.9821717990275527, 'recall': 1.0, 'f1-score': 0.9910057236304171, 'support': 606.0}, 'TCPConnectScan': {'precision': 0.9992047713717693, 'recall': 0.9901497241922774, 'f1-score': 0.9946566396200277, 'support': 5076.0}, 'HTTPFlood': {'precision': 0.9082776677520057, 'recall': 0.9608884982621549, 'f1-score': 0.9338426727810409, 'support': 225279.0}, 'SYNScan': {'precision': 0.9957848253713368, 'recall': 0.9985909822866345, 'f1-score': 0.9971859296482412, 'support': 4968.0}, 'UDPFlood': {'precision': 1.0, 'recall': 0.9999836324056545, 'f1-score': 0.9999918161358522, 'support': 183289.0}, 'accuracy': 0.9782837891622891, 'macro avg': {'precision': 0.9801435869786338, 'recall': 0.9783840815820898, 'f1-score': 0.9789804686274574, 'support': 1417052.0}, 'weighted avg': {'precision': 0.9785578196814382, 'recall': 0.9782837891622891, 'f1-score': 0.9781175286488292, 'support': 1417052.0}}\n"
     ]
    }
   ],
   "source": [
    "# From analysis, selected model is best RF with 3 trees, 9 features\n",
    "rf = RandomForestClassifier(random_state=42, n_estimators=3, max_leaf_nodes=500)\n",
    "\n",
    "selected_features = ['tcp.hdr_len', 'ip.ttl', 'tcp.window_size_value', 'ip.len', 'dstport', \n",
    "                     'srcport', 'tcp.flags.push', 'tcp.flags.fin', 'tcp.flags.reset']\n",
    "# Train the model\n",
    "rf.fit(X_train[selected_features].fillna(0), y_train)\n",
    "\n",
    "# Make predictions on the test set\n",
    "y_pred = rf.predict(X_test[selected_features].fillna(0))\n",
    "\n",
    "# Evaluate the model\n",
    "report = classification_report(y_test, y_pred,target_names=classes, output_dict=True)\n",
    "\n",
    "print(report)"
   ]
  },
  {
   "cell_type": "code",
   "execution_count": 16,
   "metadata": {},
   "outputs": [
    {
     "name": "stdout",
     "output_type": "stream",
     "text": [
      "Number of bits in P4:  499\n",
      "Number of bits in P4:  499\n",
      "Number of bits in P4:  499\n"
     ]
    }
   ],
   "source": [
    "# we check the number of bits that the code words will have in P4\n",
    "for tree in rf.estimators_:\n",
    "    nbitsp4 = tree.tree_.node_count - tree.tree_.n_leaves\n",
    "    print(\"Number of bits in P4: \", nbitsp4)"
   ]
  },
  {
   "cell_type": "code",
   "execution_count": 17,
   "metadata": {},
   "outputs": [],
   "source": [
    "# save the model for use in p4\n",
    "save_model(rf, \"rf_model_NIDD_Full.pkl\")"
   ]
  },
  {
   "cell_type": "code",
   "execution_count": 18,
   "metadata": {},
   "outputs": [
    {
     "name": "stdout",
     "output_type": "stream",
     "text": [
      "Depth of the tree: 35\n",
      "Depth of the tree: 32\n",
      "Depth of the tree: 36\n"
     ]
    }
   ],
   "source": [
    "for tree in rf.estimators_:\n",
    "    depth = tree.tree_.max_depth\n",
    "    print(\"Depth of the tree:\", depth)"
   ]
  },
  {
   "cell_type": "code",
   "execution_count": 19,
   "metadata": {},
   "outputs": [],
   "source": [
    "def calculate_scores_fpr_tpr(y_true, y_pred, classes,labels):\n",
    "\n",
    "    cm = confusion_matrix(y_true, y_pred)\n",
    "    metrics_table = []\n",
    "\n",
    "    for i in range(len(classes)):\n",
    "        TP = cm[i, i]\n",
    "        FN = sum(cm[i, :]) - TP\n",
    "        FP = sum(cm[:, i]) - TP\n",
    "        TN = sum(sum(cm)) - TP - FP - FN\n",
    "\n",
    "        # precision, recall, f1_score, _ = precision_recall_fscore_support(y_true, y_pred, labels=[i])\n",
    "        TPR = (TP / (TP + FN)) if TP + FN != 0 else 0\n",
    "        FPR = (FP / (FP + TN)) if FP + TN != 0 else 0\n",
    "        TNR = (TN / (TN + FP)) if TN + FP != 0 else 0\n",
    "        FNR = (FN / (FN + TP)) if FN + TP != 0 else 0\n",
    "        f1_score = (2*TP)/((2*TP)+FP+FN)\n",
    "\n",
    "        metrics_table.append([f1_score, TPR, FPR, TNR, FNR])\n",
    "    \n",
    "    metrics_table = np.array(metrics_table)\n",
    "    macro_avg = np.mean(metrics_table, axis=0)\n",
    "\n",
    "    weighted_avg = np.average(metrics_table, axis=0, weights=np.sum(cm, axis=1)/np.sum(cm))\n",
    "\n",
    "    final_met_table = pd.DataFrame(np.vstack((metrics_table, macro_avg, weighted_avg)), columns=['F1 Score', 'TPR', 'FPR', 'TNR', 'FNR'], index=labels + ['Macro Avg', 'Weighted Avg'])\n",
    "\n",
    "    return cm, final_met_table"
   ]
  },
  {
   "cell_type": "code",
   "execution_count": 20,
   "metadata": {},
   "outputs": [],
   "source": [
    "classes_long = ['Benign','SlowrateDoS','SYNFlood','UDPScan','ICMPFlood',\n",
    "                'TCPConnectScan','HTTPFlood','SYNScan','UDPFlood']\n",
    "classes_short = ['Benign','SlowrateDoS','SYNFlood','UDPScan','ICMPFlood',\n",
    "                 'TCPConnectScan','HTTPFlood','SYNScan','UDPFlood']"
   ]
  },
  {
   "cell_type": "code",
   "execution_count": 21,
   "metadata": {},
   "outputs": [],
   "source": [
    "cm, final_met_table = calculate_scores_fpr_tpr(y_test, y_pred, classes,classes_long)"
   ]
  },
  {
   "cell_type": "code",
   "execution_count": 22,
   "metadata": {},
   "outputs": [
    {
     "data": {
      "text/html": [
       "<div>\n",
       "<style scoped>\n",
       "    .dataframe tbody tr th:only-of-type {\n",
       "        vertical-align: middle;\n",
       "    }\n",
       "\n",
       "    .dataframe tbody tr th {\n",
       "        vertical-align: top;\n",
       "    }\n",
       "\n",
       "    .dataframe thead th {\n",
       "        text-align: right;\n",
       "    }\n",
       "</style>\n",
       "<table border=\"1\" class=\"dataframe\">\n",
       "  <thead>\n",
       "    <tr style=\"text-align: right;\">\n",
       "      <th></th>\n",
       "      <th>F1 Score</th>\n",
       "      <th>TPR</th>\n",
       "      <th>FPR</th>\n",
       "      <th>TNR</th>\n",
       "      <th>FNR</th>\n",
       "    </tr>\n",
       "  </thead>\n",
       "  <tbody>\n",
       "    <tr>\n",
       "      <th>Benign</th>\n",
       "      <td>99.990759</td>\n",
       "      <td>99.981519</td>\n",
       "      <td>0.000000</td>\n",
       "      <td>100.000000</td>\n",
       "      <td>0.018481</td>\n",
       "    </tr>\n",
       "    <tr>\n",
       "      <th>SlowrateDoS</th>\n",
       "      <td>89.628041</td>\n",
       "      <td>85.884057</td>\n",
       "      <td>0.702419</td>\n",
       "      <td>99.297581</td>\n",
       "      <td>14.115943</td>\n",
       "    </tr>\n",
       "    <tr>\n",
       "      <th>SYNFlood</th>\n",
       "      <td>100.000000</td>\n",
       "      <td>100.000000</td>\n",
       "      <td>0.000000</td>\n",
       "      <td>100.000000</td>\n",
       "      <td>0.000000</td>\n",
       "    </tr>\n",
       "    <tr>\n",
       "      <th>UDPScan</th>\n",
       "      <td>99.795344</td>\n",
       "      <td>99.718814</td>\n",
       "      <td>0.000354</td>\n",
       "      <td>99.999646</td>\n",
       "      <td>0.281186</td>\n",
       "    </tr>\n",
       "    <tr>\n",
       "      <th>ICMPFlood</th>\n",
       "      <td>99.100572</td>\n",
       "      <td>100.000000</td>\n",
       "      <td>0.000777</td>\n",
       "      <td>99.999223</td>\n",
       "      <td>0.000000</td>\n",
       "    </tr>\n",
       "    <tr>\n",
       "      <th>TCPConnectScan</th>\n",
       "      <td>99.465664</td>\n",
       "      <td>99.014972</td>\n",
       "      <td>0.000283</td>\n",
       "      <td>99.999717</td>\n",
       "      <td>0.985028</td>\n",
       "    </tr>\n",
       "    <tr>\n",
       "      <th>HTTPFlood</th>\n",
       "      <td>93.384267</td>\n",
       "      <td>96.088850</td>\n",
       "      <td>1.834242</td>\n",
       "      <td>98.165758</td>\n",
       "      <td>3.911150</td>\n",
       "    </tr>\n",
       "    <tr>\n",
       "      <th>SYNScan</th>\n",
       "      <td>99.718593</td>\n",
       "      <td>99.859098</td>\n",
       "      <td>0.001487</td>\n",
       "      <td>99.998513</td>\n",
       "      <td>0.140902</td>\n",
       "    </tr>\n",
       "    <tr>\n",
       "      <th>UDPFlood</th>\n",
       "      <td>99.999182</td>\n",
       "      <td>99.998363</td>\n",
       "      <td>0.000000</td>\n",
       "      <td>100.000000</td>\n",
       "      <td>0.001637</td>\n",
       "    </tr>\n",
       "    <tr>\n",
       "      <th>Macro Avg</th>\n",
       "      <td>97.898047</td>\n",
       "      <td>97.838408</td>\n",
       "      <td>0.282174</td>\n",
       "      <td>99.717826</td>\n",
       "      <td>2.161592</td>\n",
       "    </tr>\n",
       "    <tr>\n",
       "      <th>Weighted Avg</th>\n",
       "      <td>97.811753</td>\n",
       "      <td>97.828379</td>\n",
       "      <td>0.367941</td>\n",
       "      <td>99.632059</td>\n",
       "      <td>2.171621</td>\n",
       "    </tr>\n",
       "  </tbody>\n",
       "</table>\n",
       "</div>"
      ],
      "text/plain": [
       "                  F1 Score         TPR       FPR         TNR        FNR\n",
       "Benign           99.990759   99.981519  0.000000  100.000000   0.018481\n",
       "SlowrateDoS      89.628041   85.884057  0.702419   99.297581  14.115943\n",
       "SYNFlood        100.000000  100.000000  0.000000  100.000000   0.000000\n",
       "UDPScan          99.795344   99.718814  0.000354   99.999646   0.281186\n",
       "ICMPFlood        99.100572  100.000000  0.000777   99.999223   0.000000\n",
       "TCPConnectScan   99.465664   99.014972  0.000283   99.999717   0.985028\n",
       "HTTPFlood        93.384267   96.088850  1.834242   98.165758   3.911150\n",
       "SYNScan          99.718593   99.859098  0.001487   99.998513   0.140902\n",
       "UDPFlood         99.999182   99.998363  0.000000  100.000000   0.001637\n",
       "Macro Avg        97.898047   97.838408  0.282174   99.717826   2.161592\n",
       "Weighted Avg     97.811753   97.828379  0.367941   99.632059   2.171621"
      ]
     },
     "execution_count": 22,
     "metadata": {},
     "output_type": "execute_result"
    }
   ],
   "source": [
    "final_met_table*100"
   ]
  },
  {
   "cell_type": "code",
   "execution_count": null,
   "metadata": {},
   "outputs": [],
   "source": [
    "final_met_table.to_csv(\"final_met_table_rf.csv\")"
   ]
  },
  {
   "cell_type": "markdown",
   "metadata": {},
   "source": [
    "### Train and save selected DT"
   ]
  },
  {
   "cell_type": "code",
   "execution_count": 23,
   "metadata": {},
   "outputs": [
    {
     "name": "stdout",
     "output_type": "stream",
     "text": [
      "{'Benign': {'precision': 0.9999963992942617, 'recall': 0.999846392934075, 'f1-score': 0.999921390488249, 'support': 833295.0}, 'SlowrateDoS': {'precision': 0.9412194128960706, 'recall': 0.8707634960938768, 'f1-score': 0.9046216744082497, 'support': 153989.0}, 'SYNFlood': {'precision': 1.0, 'recall': 1.0, 'f1-score': 1.0, 'support': 6638.0}, 'UDPScan': {'precision': 0.9987199180747568, 'recall': 0.9971881390593047, 'f1-score': 0.9979534407776925, 'support': 3912.0}, 'ICMPFlood': {'precision': 0.9885807504078303, 'recall': 1.0, 'f1-score': 0.9942575881870386, 'support': 606.0}, 'TCPConnectScan': {'precision': 0.9994033412887828, 'recall': 0.9899527186761229, 'f1-score': 0.9946555819477434, 'support': 5076.0}, 'HTTPFlood': {'precision': 0.9154836259284267, 'recall': 0.9629526054359261, 'f1-score': 0.938618333805672, 'support': 225279.0}, 'SYNScan': {'precision': 0.9953870838347373, 'recall': 0.9989935587761675, 'f1-score': 0.9971870604781997, 'support': 4968.0}, 'UDPFlood': {'precision': 1.0, 'recall': 1.0, 'f1-score': 1.0, 'support': 183289.0}, 'accuracy': 0.979928753496696, 'macro avg': {'precision': 0.9820878368583185, 'recall': 0.9799663234417193, 'f1-score': 0.9808016744547605, 'support': 1417052.0}, 'weighted avg': {'precision': 0.9801473750681154, 'recall': 0.979928753496696, 'f1-score': 0.9797937497974326, 'support': 1417052.0}}\n"
     ]
    }
   ],
   "source": [
    "# From analysis, selected model is best DT with 10 features\n",
    "dt = DecisionTreeClassifier(random_state=42, max_leaf_nodes=500)\n",
    "\n",
    "selected_features = ['ip.ttl', 'dstport', 'tcp.window_size_value', \n",
    "                     'ip.len', 'tcp.flags.push', 'tcp.hdr_len', \n",
    "                     'srcport', 'tcp.flags.reset', 'udp.length', 'tcp.flags.fin']\n",
    "# Train the model\n",
    "dt.fit(X_train[selected_features].fillna(0), y_train)\n",
    "\n",
    "# Make predictions on the test set\n",
    "y_pred = dt.predict(X_test[selected_features].fillna(0))\n",
    "\n",
    "# Evaluate the model\n",
    "report = classification_report(y_test, y_pred,target_names=classes, output_dict=True)\n",
    "\n",
    "print(report)"
   ]
  },
  {
   "cell_type": "code",
   "execution_count": 24,
   "metadata": {},
   "outputs": [
    {
     "name": "stdout",
     "output_type": "stream",
     "text": [
      "Number of bits in P4:  499\n"
     ]
    }
   ],
   "source": [
    "# we check the number of bits that the code words will have in P4\n",
    "nbitsp4 = dt.tree_.node_count - dt.tree_.n_leaves\n",
    "print(\"Number of bits in P4: \", nbitsp4)"
   ]
  },
  {
   "cell_type": "code",
   "execution_count": 25,
   "metadata": {},
   "outputs": [],
   "source": [
    "# save the model for use in p4\n",
    "save_model(dt, \"DT_model_NIDD_9_classes.sav\")"
   ]
  },
  {
   "cell_type": "code",
   "execution_count": 26,
   "metadata": {},
   "outputs": [
    {
     "data": {
      "text/plain": [
       "['DT_model_NIDD_9_classes.joblib']"
      ]
     },
     "execution_count": 26,
     "metadata": {},
     "output_type": "execute_result"
    }
   ],
   "source": [
    "from joblib import dump\n",
    "\n",
    "dump(dt, 'DT_model_NIDD_9_classes.joblib')"
   ]
  },
  {
   "cell_type": "code",
   "execution_count": 27,
   "metadata": {},
   "outputs": [],
   "source": [
    "with open('DT_model_NIDD_9_classes.sav', 'rb') as f:\n",
    "    clf = pickle.load(f)"
   ]
  },
  {
   "cell_type": "code",
   "execution_count": 29,
   "metadata": {},
   "outputs": [
    {
     "name": "stdout",
     "output_type": "stream",
     "text": [
      "Depth of the tree: 37\n"
     ]
    }
   ],
   "source": [
    "depth = dt.tree_.max_depth\n",
    "print(\"Depth of the tree:\", depth)"
   ]
  },
  {
   "cell_type": "code",
   "execution_count": 30,
   "metadata": {},
   "outputs": [],
   "source": [
    "cm_rf, final_met_table_dt = calculate_scores_fpr_tpr(y_test, y_pred, classes,classes_long)"
   ]
  },
  {
   "cell_type": "code",
   "execution_count": 31,
   "metadata": {},
   "outputs": [
    {
     "data": {
      "text/html": [
       "<div>\n",
       "<style scoped>\n",
       "    .dataframe tbody tr th:only-of-type {\n",
       "        vertical-align: middle;\n",
       "    }\n",
       "\n",
       "    .dataframe tbody tr th {\n",
       "        vertical-align: top;\n",
       "    }\n",
       "\n",
       "    .dataframe thead th {\n",
       "        text-align: right;\n",
       "    }\n",
       "</style>\n",
       "<table border=\"1\" class=\"dataframe\">\n",
       "  <thead>\n",
       "    <tr style=\"text-align: right;\">\n",
       "      <th></th>\n",
       "      <th>F1 Score</th>\n",
       "      <th>TPR</th>\n",
       "      <th>FPR</th>\n",
       "      <th>TNR</th>\n",
       "      <th>FNR</th>\n",
       "    </tr>\n",
       "  </thead>\n",
       "  <tbody>\n",
       "    <tr>\n",
       "      <th>Benign</th>\n",
       "      <td>99.992139</td>\n",
       "      <td>99.984639</td>\n",
       "      <td>0.000514</td>\n",
       "      <td>99.999486</td>\n",
       "      <td>0.015361</td>\n",
       "    </tr>\n",
       "    <tr>\n",
       "      <th>SlowrateDoS</th>\n",
       "      <td>90.462167</td>\n",
       "      <td>87.076350</td>\n",
       "      <td>0.662991</td>\n",
       "      <td>99.337009</td>\n",
       "      <td>12.923650</td>\n",
       "    </tr>\n",
       "    <tr>\n",
       "      <th>SYNFlood</th>\n",
       "      <td>100.000000</td>\n",
       "      <td>100.000000</td>\n",
       "      <td>0.000000</td>\n",
       "      <td>100.000000</td>\n",
       "      <td>0.000000</td>\n",
       "    </tr>\n",
       "    <tr>\n",
       "      <th>UDPScan</th>\n",
       "      <td>99.795344</td>\n",
       "      <td>99.718814</td>\n",
       "      <td>0.000354</td>\n",
       "      <td>99.999646</td>\n",
       "      <td>0.281186</td>\n",
       "    </tr>\n",
       "    <tr>\n",
       "      <th>ICMPFlood</th>\n",
       "      <td>99.425759</td>\n",
       "      <td>100.000000</td>\n",
       "      <td>0.000494</td>\n",
       "      <td>99.999506</td>\n",
       "      <td>0.000000</td>\n",
       "    </tr>\n",
       "    <tr>\n",
       "      <th>TCPConnectScan</th>\n",
       "      <td>99.465558</td>\n",
       "      <td>98.995272</td>\n",
       "      <td>0.000212</td>\n",
       "      <td>99.999788</td>\n",
       "      <td>1.004728</td>\n",
       "    </tr>\n",
       "    <tr>\n",
       "      <th>HTTPFlood</th>\n",
       "      <td>93.861833</td>\n",
       "      <td>96.295261</td>\n",
       "      <td>1.680437</td>\n",
       "      <td>98.319563</td>\n",
       "      <td>3.704739</td>\n",
       "    </tr>\n",
       "    <tr>\n",
       "      <th>SYNScan</th>\n",
       "      <td>99.718706</td>\n",
       "      <td>99.899356</td>\n",
       "      <td>0.001629</td>\n",
       "      <td>99.998371</td>\n",
       "      <td>0.100644</td>\n",
       "    </tr>\n",
       "    <tr>\n",
       "      <th>UDPFlood</th>\n",
       "      <td>100.000000</td>\n",
       "      <td>100.000000</td>\n",
       "      <td>0.000000</td>\n",
       "      <td>100.000000</td>\n",
       "      <td>0.000000</td>\n",
       "    </tr>\n",
       "    <tr>\n",
       "      <th>Macro Avg</th>\n",
       "      <td>98.080167</td>\n",
       "      <td>97.996632</td>\n",
       "      <td>0.260737</td>\n",
       "      <td>99.739263</td>\n",
       "      <td>2.003368</td>\n",
       "    </tr>\n",
       "    <tr>\n",
       "      <th>Weighted Avg</th>\n",
       "      <td>97.979375</td>\n",
       "      <td>97.992875</td>\n",
       "      <td>0.339507</td>\n",
       "      <td>99.660493</td>\n",
       "      <td>2.007125</td>\n",
       "    </tr>\n",
       "  </tbody>\n",
       "</table>\n",
       "</div>"
      ],
      "text/plain": [
       "                  F1 Score         TPR       FPR         TNR        FNR\n",
       "Benign           99.992139   99.984639  0.000514   99.999486   0.015361\n",
       "SlowrateDoS      90.462167   87.076350  0.662991   99.337009  12.923650\n",
       "SYNFlood        100.000000  100.000000  0.000000  100.000000   0.000000\n",
       "UDPScan          99.795344   99.718814  0.000354   99.999646   0.281186\n",
       "ICMPFlood        99.425759  100.000000  0.000494   99.999506   0.000000\n",
       "TCPConnectScan   99.465558   98.995272  0.000212   99.999788   1.004728\n",
       "HTTPFlood        93.861833   96.295261  1.680437   98.319563   3.704739\n",
       "SYNScan          99.718706   99.899356  0.001629   99.998371   0.100644\n",
       "UDPFlood        100.000000  100.000000  0.000000  100.000000   0.000000\n",
       "Macro Avg        98.080167   97.996632  0.260737   99.739263   2.003368\n",
       "Weighted Avg     97.979375   97.992875  0.339507   99.660493   2.007125"
      ]
     },
     "execution_count": 31,
     "metadata": {},
     "output_type": "execute_result"
    }
   ],
   "source": [
    "final_met_table_dt*100"
   ]
  },
  {
   "cell_type": "code",
   "execution_count": 32,
   "metadata": {},
   "outputs": [],
   "source": [
    "final_met_table_dt.to_csv(\"final_met_table_dt_full.csv\")"
   ]
  }
 ],
 "metadata": {
  "kernelspec": {
   "display_name": "base",
   "language": "python",
   "name": "python3"
  },
  "language_info": {
   "codemirror_mode": {
    "name": "ipython",
    "version": 3
   },
   "file_extension": ".py",
   "mimetype": "text/x-python",
   "name": "python",
   "nbconvert_exporter": "python",
   "pygments_lexer": "ipython3",
   "version": "3.8.10"
  }
 },
 "nbformat": 4,
 "nbformat_minor": 2
}
